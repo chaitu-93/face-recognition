{
 "cells": [
  {
   "cell_type": "code",
   "execution_count": 3,
   "id": "587e797e-0906-43aa-b27f-8de73edfefa5",
   "metadata": {},
   "outputs": [
    {
     "name": "stdout",
     "output_type": "stream",
     "text": [
      "Defaulting to user installation because normal site-packages is not writeable\n",
      "Collecting opencv-python\n",
      "  Using cached opencv_python-4.10.0.84-cp37-abi3-win_amd64.whl.metadata (20 kB)\n",
      "Requirement already satisfied: numpy>=1.21.2 in c:\\programdata\\anaconda3\\lib\\site-packages (from opencv-python) (1.26.4)\n",
      "Using cached opencv_python-4.10.0.84-cp37-abi3-win_amd64.whl (38.8 MB)\n",
      "Installing collected packages: opencv-python\n",
      "Successfully installed opencv-python-4.10.0.84\n"
     ]
    }
   ],
   "source": [
    "!pip install opencv-python\n"
   ]
  },
  {
   "cell_type": "markdown",
   "id": "9e54e512-6bc2-4d46-a646-b370a84139ad",
   "metadata": {},
   "source": [
    "##### import cv2"
   ]
  },
  {
   "cell_type": "code",
   "execution_count": 6,
   "id": "cade6bab-15fb-4d62-a3b8-8068095b6eab",
   "metadata": {},
   "outputs": [
    {
     "name": "stdout",
     "output_type": "stream",
     "text": [
      "Microsoft Windows [Version 10.0.17763.134]\n",
      "(c) 2018 Microsoft Corporation. All rights reserved.\n",
      "\n",
      "(C:\\ProgramData\\anaconda3) C:\\Users\\DELL E5490\\Attendance-system-using-Face-Recognition>where python\n"
     ]
    },
    {
     "name": "stderr",
     "output_type": "stream",
     "text": [
      "'where' is not recognized as an internal or external command,\n",
      "operable program or batch file.\n"
     ]
    },
    {
     "name": "stdout",
     "output_type": "stream",
     "text": [
      "\n",
      "(C:\\ProgramData\\anaconda3) C:\\Users\\DELL E5490\\Attendance-system-using-Face-Recognition>"
     ]
    }
   ],
   "source": [
    "%%cmd\n",
    "where python"
   ]
  },
  {
   "cell_type": "code",
   "execution_count": 7,
   "id": "5a655435-f638-4308-8ebb-4fb5b547bcd8",
   "metadata": {},
   "outputs": [
    {
     "name": "stdout",
     "output_type": "stream",
     "text": [
      "Microsoft Windows [Version 10.0.17763.134]\n",
      "(c) 2018 Microsoft Corporation. All rights reserved.\n",
      "\n",
      "(C:\\ProgramData\\anaconda3) C:\\Users\\DELL E5490\\Attendance-system-using-Face-Recognition>pip install face_recognition\n",
      "Defaulting to user installation because normal site-packages is not writeable\n",
      "Collecting face_recognition\n",
      "  Using cached face_recognition-1.3.0-py2.py3-none-any.whl.metadata (21 kB)\n",
      "Collecting face-recognition-models>=0.3.0 (from face_recognition)\n",
      "  Using cached face_recognition_models-0.3.0-py2.py3-none-any.whl\n",
      "Requirement already satisfied: Click>=6.0 in c:\\programdata\\anaconda3\\lib\\site-packages (from face_recognition) (8.1.7)\n",
      "Collecting dlib>=19.7 (from face_recognition)\n",
      "  Using cached dlib-19.24.4.tar.gz (3.3 MB)\n",
      "  Installing build dependencies: started\n",
      "  Installing build dependencies: finished with status 'done'\n",
      "  Getting requirements to build wheel: started\n",
      "  Getting requirements to build wheel: finished with status 'done'\n",
      "  Preparing metadata (pyproject.toml): started\n",
      "  Preparing metadata (pyproject.toml): finished with status 'done'\n",
      "Requirement already satisfied: numpy in c:\\programdata\\anaconda3\\lib\\site-packages (from face_recognition) (1.26.4)\n",
      "Requirement already satisfied: Pillow in c:\\programdata\\anaconda3\\lib\\site-packages (from face_recognition) (10.3.0)\n",
      "Requirement already satisfied: colorama in c:\\programdata\\anaconda3\\lib\\site-packages (from Click>=6.0->face_recognition) (0.4.6)\n",
      "Using cached face_recognition-1.3.0-py2.py3-none-any.whl (15 kB)\n",
      "Building wheels for collected packages: dlib\n",
      "  Building wheel for dlib (pyproject.toml): started\n",
      "  Building wheel for dlib (pyproject.toml): finished with status 'error'\n"
     ]
    },
    {
     "name": "stderr",
     "output_type": "stream",
     "text": [
      "  error: subprocess-exited-with-error\n",
      "  \n",
      "  Building wheel for dlib (pyproject.toml) did not run successfully.\n",
      "  exit code: 1\n",
      "  \n",
      "  [81 lines of output]\n",
      "  <string>:210: SyntaxWarning: invalid escape sequence '\\('\n",
      "  <string>:211: SyntaxWarning: invalid escape sequence '\\('\n",
      "  <string>:212: SyntaxWarning: invalid escape sequence '\\('\n",
      "  running bdist_wheel\n",
      "  running build\n",
      "  running build_ext\n",
      "  <string>:125: DeprecationWarning: distutils Version classes are deprecated. Use packaging.version instead.\n",
      "  Building extension for Python 3.12.4 | packaged by Anaconda, Inc. | (main, Jun 18 2024, 15:03:56) [MSC v.1929 64 bit (AMD64)]\n",
      "  Invoking CMake setup: 'cmake C:\\Users\\DELL E5490\\AppData\\Local\\Temp\\pip-install-chj7321m\\dlib_29633ba6d9dd429399222991f5965f4c\\tools\\python -DCMAKE_LIBRARY_OUTPUT_DIRECTORY=C:\\Users\\DELL E5490\\AppData\\Local\\Temp\\pip-install-chj7321m\\dlib_29633ba6d9dd429399222991f5965f4c\\build\\lib.win-amd64-cpython-312 -DPYTHON_EXECUTABLE=C:\\ProgramData\\anaconda3\\python.exe -DCMAKE_LIBRARY_OUTPUT_DIRECTORY_RELEASE=C:\\Users\\DELL E5490\\AppData\\Local\\Temp\\pip-install-chj7321m\\dlib_29633ba6d9dd429399222991f5965f4c\\build\\lib.win-amd64-cpython-312 -A x64'\n",
      "  -- Building for: NMake Makefiles\n",
      "  CMake Error at CMakeLists.txt:5 (message):\n",
      "  \n",
      "  \n",
      "  \n",
      "    !!!!!!!!!!!!!!!!!!!!!!!!!!!!!!!!!!!!!!!!!!!!!!!!!!!!!!!!!!!!!!!!!!!!!!!!!!!!!!!\n",
      "  \n",
      "  \n",
      "    You must use Visual Studio to build a python extension on windows.  If you\n",
      "    are getting this error it means you have not installed Visual C++.  Note\n",
      "    that there are many flavors of Visual Studio, like Visual Studio for C#\n",
      "    development.  You need to install Visual Studio for C++.\n",
      "  \n",
      "  \n",
      "    !!!!!!!!!!!!!!!!!!!!!!!!!!!!!!!!!!!!!!!!!!!!!!!!!!!!!!!!!!!!!!!!!!!!!!!!!!!!!!!\n",
      "  \n",
      "  \n",
      "  \n",
      "  \n",
      "  -- Configuring incomplete, errors occurred!\n",
      "  Traceback (most recent call last):\n",
      "    File \"C:\\ProgramData\\anaconda3\\Lib\\site-packages\\pip\\_vendor\\pyproject_hooks\\_in_process\\_in_process.py\", line 353, in <module>\n",
      "      main()\n",
      "    File \"C:\\ProgramData\\anaconda3\\Lib\\site-packages\\pip\\_vendor\\pyproject_hooks\\_in_process\\_in_process.py\", line 335, in main\n",
      "      json_out['return_val'] = hook(**hook_input['kwargs'])\n",
      "                               ^^^^^^^^^^^^^^^^^^^^^^^^^^^^\n",
      "    File \"C:\\ProgramData\\anaconda3\\Lib\\site-packages\\pip\\_vendor\\pyproject_hooks\\_in_process\\_in_process.py\", line 251, in build_wheel\n",
      "      return _build_backend().build_wheel(wheel_directory, config_settings,\n",
      "             ^^^^^^^^^^^^^^^^^^^^^^^^^^^^^^^^^^^^^^^^^^^^^^^^^^^^^^^^^^^^^^\n",
      "    File \"C:\\Users\\DELL E5490\\AppData\\Local\\Temp\\pip-build-env-54h5h170\\overlay\\Lib\\site-packages\\setuptools\\build_meta.py\", line 415, in build_wheel\n",
      "      return self._build_with_temp_dir(\n",
      "             ^^^^^^^^^^^^^^^^^^^^^^^^^^\n",
      "    File \"C:\\Users\\DELL E5490\\AppData\\Local\\Temp\\pip-build-env-54h5h170\\overlay\\Lib\\site-packages\\setuptools\\build_meta.py\", line 397, in _build_with_temp_dir\n",
      "      self.run_setup()\n",
      "    File \"C:\\Users\\DELL E5490\\AppData\\Local\\Temp\\pip-build-env-54h5h170\\overlay\\Lib\\site-packages\\setuptools\\build_meta.py\", line 313, in run_setup\n",
      "      exec(code, locals())\n",
      "    File \"<string>\", line 220, in <module>\n",
      "    File \"C:\\Users\\DELL E5490\\AppData\\Local\\Temp\\pip-build-env-54h5h170\\overlay\\Lib\\site-packages\\setuptools\\__init__.py\", line 103, in setup\n",
      "      return distutils.core.setup(**attrs)\n",
      "             ^^^^^^^^^^^^^^^^^^^^^^^^^^^^^\n",
      "    File \"C:\\Users\\DELL E5490\\AppData\\Local\\Temp\\pip-build-env-54h5h170\\overlay\\Lib\\site-packages\\setuptools\\_distutils\\core.py\", line 184, in setup\n",
      "      return run_commands(dist)\n",
      "             ^^^^^^^^^^^^^^^^^^\n",
      "    File \"C:\\Users\\DELL E5490\\AppData\\Local\\Temp\\pip-build-env-54h5h170\\overlay\\Lib\\site-packages\\setuptools\\_distutils\\core.py\", line 200, in run_commands\n",
      "      dist.run_commands()\n",
      "    File \"C:\\Users\\DELL E5490\\AppData\\Local\\Temp\\pip-build-env-54h5h170\\overlay\\Lib\\site-packages\\setuptools\\_distutils\\dist.py\", line 970, in run_commands\n",
      "      self.run_command(cmd)\n",
      "    File \"C:\\Users\\DELL E5490\\AppData\\Local\\Temp\\pip-build-env-54h5h170\\overlay\\Lib\\site-packages\\setuptools\\dist.py\", line 974, in run_command\n",
      "      super().run_command(command)\n",
      "    File \"C:\\Users\\DELL E5490\\AppData\\Local\\Temp\\pip-build-env-54h5h170\\overlay\\Lib\\site-packages\\setuptools\\_distutils\\dist.py\", line 989, in run_command\n",
      "      cmd_obj.run()\n",
      "    File \"C:\\Users\\DELL E5490\\AppData\\Local\\Temp\\pip-build-env-54h5h170\\overlay\\Lib\\site-packages\\setuptools\\command\\bdist_wheel.py\", line 373, in run\n",
      "      self.run_command(\"build\")\n",
      "    File \"C:\\Users\\DELL E5490\\AppData\\Local\\Temp\\pip-build-env-54h5h170\\overlay\\Lib\\site-packages\\setuptools\\_distutils\\cmd.py\", line 316, in run_command\n",
      "      self.distribution.run_command(command)\n",
      "    File \"C:\\Users\\DELL E5490\\AppData\\Local\\Temp\\pip-build-env-54h5h170\\overlay\\Lib\\site-packages\\setuptools\\dist.py\", line 974, in run_command\n",
      "      super().run_command(command)\n",
      "    File \"C:\\Users\\DELL E5490\\AppData\\Local\\Temp\\pip-build-env-54h5h170\\overlay\\Lib\\site-packages\\setuptools\\_distutils\\dist.py\", line 989, in run_command\n",
      "      cmd_obj.run()\n",
      "    File \"C:\\Users\\DELL E5490\\AppData\\Local\\Temp\\pip-build-env-54h5h170\\overlay\\Lib\\site-packages\\setuptools\\_distutils\\command\\build.py\", line 135, in run\n",
      "      self.run_command(cmd_name)\n",
      "    File \"C:\\Users\\DELL E5490\\AppData\\Local\\Temp\\pip-build-env-54h5h170\\overlay\\Lib\\site-packages\\setuptools\\_distutils\\cmd.py\", line 316, in run_command\n",
      "      self.distribution.run_command(command)\n",
      "    File \"C:\\Users\\DELL E5490\\AppData\\Local\\Temp\\pip-build-env-54h5h170\\overlay\\Lib\\site-packages\\setuptools\\dist.py\", line 974, in run_command\n",
      "      super().run_command(command)\n",
      "    File \"C:\\Users\\DELL E5490\\AppData\\Local\\Temp\\pip-build-env-54h5h170\\overlay\\Lib\\site-packages\\setuptools\\_distutils\\dist.py\", line 989, in run_command\n",
      "      cmd_obj.run()\n",
      "    File \"<string>\", line 130, in run\n",
      "    File \"<string>\", line 167, in build_extension\n",
      "    File \"C:\\ProgramData\\anaconda3\\Lib\\subprocess.py\", line 413, in check_call\n",
      "      raise CalledProcessError(retcode, cmd)\n",
      "  subprocess.CalledProcessError: Command '['cmake', 'C:\\\\Users\\\\DELL E5490\\\\AppData\\\\Local\\\\Temp\\\\pip-install-chj7321m\\\\dlib_29633ba6d9dd429399222991f5965f4c\\\\tools\\\\python', '-DCMAKE_LIBRARY_OUTPUT_DIRECTORY=C:\\\\Users\\\\DELL E5490\\\\AppData\\\\Local\\\\Temp\\\\pip-install-chj7321m\\\\dlib_29633ba6d9dd429399222991f5965f4c\\\\build\\\\lib.win-amd64-cpython-312', '-DPYTHON_EXECUTABLE=C:\\\\ProgramData\\\\anaconda3\\\\python.exe', '-DCMAKE_LIBRARY_OUTPUT_DIRECTORY_RELEASE=C:\\\\Users\\\\DELL E5490\\\\AppData\\\\Local\\\\Temp\\\\pip-install-chj7321m\\\\dlib_29633ba6d9dd429399222991f5965f4c\\\\build\\\\lib.win-amd64-cpython-312', '-A', 'x64']' returned non-zero exit status 1.\n",
      "  [end of output]\n",
      "  \n",
      "  note: This error originates from a subprocess, and is likely not a problem with pip.\n",
      "  ERROR: Failed building wheel for dlib\n",
      "ERROR: Could not build wheels for dlib, which is required to install pyproject.toml-based projects\n"
     ]
    },
    {
     "name": "stdout",
     "output_type": "stream",
     "text": [
      "Failed to build dlib\n",
      "\n",
      "(C:\\ProgramData\\anaconda3) C:\\Users\\DELL E5490\\Attendance-system-using-Face-Recognition>"
     ]
    }
   ],
   "source": [
    "%%cmd\n",
    "pip install face_recognition\n"
   ]
  },
  {
   "cell_type": "code",
   "execution_count": 8,
   "id": "0dda05d5-516c-4645-b1f4-870a0474294f",
   "metadata": {},
   "outputs": [
    {
     "name": "stdout",
     "output_type": "stream",
     "text": [
      "Microsoft Windows [Version 10.0.17763.134]\n",
      "(c) 2018 Microsoft Corporation. All rights reserved.\n",
      "\n",
      "(C:\\ProgramData\\anaconda3) C:\\Users\\DELL E5490\\Attendance-system-using-Face-Recognition>pip install cmake\n",
      "Defaulting to user installation because normal site-packages is not writeable\n",
      "Collecting cmake\n",
      "  Using cached cmake-3.30.0-py3-none-win_amd64.whl.metadata (6.1 kB)\n",
      "Downloading cmake-3.30.0-py3-none-win_amd64.whl (35.6 MB)\n",
      "   ---------------------------------------- 35.6/35.6 MB 5.3 MB/s eta 0:00:002\n",
      "Installing collected packages: cmake\n"
     ]
    },
    {
     "name": "stderr",
     "output_type": "stream",
     "text": [
      "  WARNING: The scripts cmake.exe, cpack.exe and ctest.exe are installed in 'C:\\Users\\DELL E5490\\AppData\\Roaming\\Python\\Python312\\Scripts' which is not on PATH.\n",
      "  Consider adding this directory to PATH or, if you prefer to suppress this warning, use --no-warn-script-location.\n"
     ]
    },
    {
     "name": "stdout",
     "output_type": "stream",
     "text": [
      "Successfully installed cmake-3.30.0\n",
      "\n",
      "(C:\\ProgramData\\anaconda3) C:\\Users\\DELL E5490\\Attendance-system-using-Face-Recognition>"
     ]
    }
   ],
   "source": [
    "%%cmd\n",
    "pip install cmake"
   ]
  },
  {
   "cell_type": "code",
   "execution_count": 9,
   "id": "5f334f2e-8cb3-4e90-8ae0-30640454c152",
   "metadata": {},
   "outputs": [
    {
     "name": "stdout",
     "output_type": "stream",
     "text": [
      "Microsoft Windows [Version 10.0.17763.134]\n",
      "(c) 2018 Microsoft Corporation. All rights reserved.\n",
      "\n",
      "(C:\\ProgramData\\anaconda3) C:\\Users\\DELL E5490\\Attendance-system-using-Face-Recognition>python --version\n",
      "Python 3.12.4\n",
      "\n",
      "(C:\\ProgramData\\anaconda3) C:\\Users\\DELL E5490\\Attendance-system-using-Face-Recognition>"
     ]
    }
   ],
   "source": [
    "%%cmd\n",
    "python --version\n"
   ]
  },
  {
   "cell_type": "code",
   "execution_count": 10,
   "id": "16c3cfec-454c-4f3c-86b7-8cb507fb6892",
   "metadata": {},
   "outputs": [
    {
     "name": "stdout",
     "output_type": "stream",
     "text": [
      "Microsoft Windows [Version 10.0.17763.134]\n",
      "(c) 2018 Microsoft Corporation. All rights reserved.\n",
      "\n",
      "(C:\\ProgramData\\anaconda3) C:\\Users\\DELL E5490\\Attendance-system-using-Face-Recognition>pip install \"C:\\Users\\DELL E5490\\Downloads\\dlib-python whl packages\\dlib-python whl packages\\dlib-19.24.99-cp312-cp312-win_amd64.whl\"\n",
      "Defaulting to user installation because normal site-packages is not writeable\n",
      "Processing c:\\users\\dell e5490\\downloads\\dlib-python whl packages\\dlib-python whl packages\\dlib-19.24.99-cp312-cp312-win_amd64.whl\n",
      "Installing collected packages: dlib\n",
      "Successfully installed dlib-19.24.99\n",
      "\n",
      "(C:\\ProgramData\\anaconda3) C:\\Users\\DELL E5490\\Attendance-system-using-Face-Recognition>"
     ]
    }
   ],
   "source": [
    "%%cmd\n",
    "pip install \"C:\\Users\\DELL E5490\\Downloads\\dlib-python whl packages\\dlib-python whl packages\\dlib-19.24.99-cp312-cp312-win_amd64.whl\""
   ]
  },
  {
   "cell_type": "code",
   "execution_count": 11,
   "id": "80922aca-6bfc-4985-80a9-235571827562",
   "metadata": {},
   "outputs": [
    {
     "name": "stdout",
     "output_type": "stream",
     "text": [
      "Microsoft Windows [Version 10.0.17763.134]\n",
      "(c) 2018 Microsoft Corporation. All rights reserved.\n",
      "\n",
      "(C:\\ProgramData\\anaconda3) C:\\Users\\DELL E5490\\Attendance-system-using-Face-Recognition>pip install face_recognition\n",
      "Defaulting to user installation because normal site-packages is not writeable\n",
      "Collecting face_recognition\n",
      "  Using cached face_recognition-1.3.0-py2.py3-none-any.whl.metadata (21 kB)\n",
      "Collecting face-recognition-models>=0.3.0 (from face_recognition)\n",
      "  Using cached face_recognition_models-0.3.0-py2.py3-none-any.whl\n",
      "Requirement already satisfied: Click>=6.0 in c:\\programdata\\anaconda3\\lib\\site-packages (from face_recognition) (8.1.7)\n",
      "Requirement already satisfied: dlib>=19.7 in c:\\users\\dell e5490\\appdata\\roaming\\python\\python312\\site-packages (from face_recognition) (19.24.99)\n",
      "Requirement already satisfied: numpy in c:\\programdata\\anaconda3\\lib\\site-packages (from face_recognition) (1.26.4)\n",
      "Requirement already satisfied: Pillow in c:\\programdata\\anaconda3\\lib\\site-packages (from face_recognition) (10.3.0)\n",
      "Requirement already satisfied: colorama in c:\\programdata\\anaconda3\\lib\\site-packages (from Click>=6.0->face_recognition) (0.4.6)\n",
      "Using cached face_recognition-1.3.0-py2.py3-none-any.whl (15 kB)\n",
      "Installing collected packages: face-recognition-models, face_recognition\n"
     ]
    },
    {
     "name": "stderr",
     "output_type": "stream",
     "text": [
      "  WARNING: The scripts face_detection.exe and face_recognition.exe are installed in 'C:\\Users\\DELL E5490\\AppData\\Roaming\\Python\\Python312\\Scripts' which is not on PATH.\n",
      "  Consider adding this directory to PATH or, if you prefer to suppress this warning, use --no-warn-script-location.\n"
     ]
    },
    {
     "name": "stdout",
     "output_type": "stream",
     "text": [
      "Successfully installed face-recognition-models-0.3.0 face_recognition-1.3.0\n",
      "\n",
      "(C:\\ProgramData\\anaconda3) C:\\Users\\DELL E5490\\Attendance-system-using-Face-Recognition>"
     ]
    }
   ],
   "source": [
    "%%cmd\n",
    "pip install face_recognition\n"
   ]
  },
  {
   "cell_type": "code",
   "execution_count": 16,
   "id": "e340bcb5-a602-4340-aca2-8eea9dba6d60",
   "metadata": {},
   "outputs": [
    {
     "name": "stdout",
     "output_type": "stream",
     "text": [
      "List of training images: ['.ipynb_checkpoints', 'chaitu.jpg', 'chandu.jpeg', 'deepthi.jpg', 'kiran.jpg', 'saran.jpg', 'swaroop.jpeg']\n",
      "Failed to load image .ipynb_checkpoints\n",
      "Class names: ['chaitu', 'chandu', 'deepthi', 'kiran', 'saran', 'swaroop']\n",
      "Encoding Complete\n"
     ]
    }
   ],
   "source": [
    "import cv2\n",
    "import numpy as np\n",
    "import face_recognition\n",
    "import os\n",
    "from datetime import datetime\n",
    "\n",
    "# from PIL import ImageGrab\n",
    "\n",
    "path = 'Training images'\n",
    "images = []\n",
    "classNames = []\n",
    "myList = os.listdir(path)\n",
    "print(\"List of training images:\", myList)\n",
    "for cl in myList:\n",
    "    curImg = cv2.imread(f'{path}/{cl}')\n",
    "    if curImg is None:\n",
    "        print(f\"Failed to load image {cl}\")\n",
    "        continue\n",
    "    images.append(curImg)\n",
    "    classNames.append(os.path.splitext(cl)[0])\n",
    "print(\"Class names:\", classNames)\n",
    "\n",
    "\n",
    "def findEncodings(images):\n",
    "    encodeList = []\n",
    "\n",
    "    for img in images:\n",
    "        img = cv2.cvtColor(img, cv2.COLOR_BGR2RGB)\n",
    "        encode = face_recognition.face_encodings(img)\n",
    "        if len(encode) > 0:\n",
    "            encodeList.append(encode[0])\n",
    "        else:\n",
    "            print(\"No face found in image\")\n",
    "    return encodeList\n",
    "\n",
    "\n",
    "def markAttendance(name):\n",
    "    with open('Attendance.csv', 'r+') as f:\n",
    "        myDataList = f.readlines()\n",
    "        nameList = []\n",
    "        for line in myDataList:\n",
    "            entry = line.split(',')\n",
    "            nameList.append(entry[0])\n",
    "        if name not in nameList:\n",
    "            now = datetime.now()\n",
    "            dtString = now.strftime(\"%m/%d/%Y,%H:%M:%S\")\n",
    "            f.writelines(f'\\n{name},{dtString}')\n",
    "\n",
    "\n",
    "#### FOR CAPTURING SCREEN RATHER THAN WEBCAM\n",
    "# def captureScreen(bbox=(300,300,690+300,530+300)):\n",
    "#     capScr = np.array(ImageGrab.grab(bbox))\n",
    "#     capScr = cv2.cvtColor(capScr, cv2.COLOR_RGB2BGR)\n",
    "#     return capScr\n",
    "\n",
    "encodeListKnown = findEncodings(images)\n",
    "print('Encoding Complete')\n",
    "\n",
    "cap = cv2.VideoCapture(0)\n",
    "\n",
    "while True:\n",
    "    success, img = cap.read()\n",
    "    if not success:\n",
    "        print(\"Failed to capture image from webcam\")\n",
    "        continue\n",
    "\n",
    "    # img = captureScreen()\n",
    "    imgS = cv2.resize(img, (0, 0), None, 0.25, 0.25)\n",
    "    imgS = cv2.cvtColor(imgS, cv2.COLOR_BGR2RGB)\n",
    "\n",
    "    facesCurFrame = face_recognition.face_locations(imgS)\n",
    "    encodesCurFrame = face_recognition.face_encodings(imgS, facesCurFrame)\n",
    "\n",
    "    for encodeFace, faceLoc in zip(encodesCurFrame, facesCurFrame):\n",
    "        matches = face_recognition.compare_faces(encodeListKnown, encodeFace)\n",
    "        faceDis = face_recognition.face_distance(encodeListKnown, encodeFace)\n",
    "        matchIndex = np.argmin(faceDis)\n",
    "\n",
    "        if matches[matchIndex]:\n",
    "            name = classNames[matchIndex].upper()\n",
    "            y1, x2, y2, x1 = faceLoc\n",
    "            y1, x2, y2, x1 = y1 * 4, x2 * 4, y2 * 4, x1 * 4\n",
    "            cv2.rectangle(img, (x1, y1), (x2, y2), (0, 255, 0), 2)\n",
    "            cv2.rectangle(img, (x1, y2 - 35), (x2, y2), (0, 255, 0), cv2.FILLED)\n",
    "            cv2.putText(img, name, (x1 + 6, y2 - 6), cv2.FONT_HERSHEY_COMPLEX, 1, (255, 255, 255), 2)\n",
    "            markAttendance(name)\n",
    "\n",
    "    cv2.imshow('Webcam', img)\n",
    "    if cv2.waitKey(1) & 0xFF == ord('q'):\n",
    "        break\n",
    "\n",
    "cap.release()\n",
    "cv2.destroyAllWindows()\n"
   ]
  },
  {
   "cell_type": "code",
   "execution_count": 17,
   "id": "6509eced-71e0-42f4-b1f4-f3671ceb2d4a",
   "metadata": {},
   "outputs": [
    {
     "name": "stdout",
     "output_type": "stream",
     "text": [
      "List of training images: ['.ipynb_checkpoints', 'chaitu.jpg', 'chandu.jpeg', 'deepthi.jpg', 'kiran.jpg', 'saran.jpg', 'swaroop.jpeg']\n",
      "Failed to load image .ipynb_checkpoints\n",
      "Class names: ['chaitu', 'chandu', 'deepthi', 'kiran', 'saran', 'swaroop']\n",
      "Encoding Complete\n",
      "Accuracy: 1.00\n",
      "Precision: 1.00\n",
      "Recall: 1.00\n",
      "F1 Score: 1.00\n",
      "Total Processing Time: 8.55 seconds\n"
     ]
    }
   ],
   "source": [
    "import cv2\n",
    "import numpy as np\n",
    "import face_recognition\n",
    "import os\n",
    "from datetime import datetime\n",
    "from sklearn.metrics import accuracy_score, precision_score, recall_score, f1_score\n",
    "import time\n",
    "\n",
    "# from PIL import ImageGrab\n",
    "\n",
    "path = 'Training images'\n",
    "images = []\n",
    "classNames = []\n",
    "myList = os.listdir(path)\n",
    "print(\"List of training images:\", myList)\n",
    "for cl in myList:\n",
    "    curImg = cv2.imread(f'{path}/{cl}')\n",
    "    if curImg is None:\n",
    "        print(f\"Failed to load image {cl}\")\n",
    "        continue\n",
    "    images.append(curImg)\n",
    "    classNames.append(os.path.splitext(cl)[0])\n",
    "print(\"Class names:\", classNames)\n",
    "\n",
    "\n",
    "def findEncodings(images):\n",
    "    encodeList = []\n",
    "\n",
    "    for img in images:\n",
    "        img = cv2.cvtColor(img, cv2.COLOR_BGR2RGB)\n",
    "        encode = face_recognition.face_encodings(img)\n",
    "        if len(encode) > 0:\n",
    "            encodeList.append(encode[0])\n",
    "        else:\n",
    "            print(\"No face found in image\")\n",
    "    return encodeList\n",
    "\n",
    "\n",
    "def markAttendance(name):\n",
    "    with open('Attendance.csv', 'r+') as f:\n",
    "        myDataList = f.readlines()\n",
    "        nameList = []\n",
    "        for line in myDataList:\n",
    "            entry = line.split(',')\n",
    "            nameList.append(entry[0])\n",
    "        if name not in nameList:\n",
    "            now = datetime.now()\n",
    "            dtString = now.strftime(\"%m/%d/%Y,%H:%M:%S\")\n",
    "            f.writelines(f'\\n{name},{dtString}')\n",
    "\n",
    "\n",
    "encodeListKnown = findEncodings(images)\n",
    "print('Encoding Complete')\n",
    "\n",
    "cap = cv2.VideoCapture(0)\n",
    "\n",
    "# Performance metrics\n",
    "y_true = []\n",
    "y_pred = []\n",
    "start_time = time.time()\n",
    "\n",
    "while True:\n",
    "    success, img = cap.read()\n",
    "    if not success:\n",
    "        print(\"Failed to capture image from webcam\")\n",
    "        continue\n",
    "\n",
    "    imgS = cv2.resize(img, (0, 0), None, 0.25, 0.25)\n",
    "    imgS = cv2.cvtColor(imgS, cv2.COLOR_BGR2RGB)\n",
    "\n",
    "    facesCurFrame = face_recognition.face_locations(imgS)\n",
    "    encodesCurFrame = face_recognition.face_encodings(imgS, facesCurFrame)\n",
    "\n",
    "    for encodeFace, faceLoc in zip(encodesCurFrame, facesCurFrame):\n",
    "        matches = face_recognition.compare_faces(encodeListKnown, encodeFace)\n",
    "        faceDis = face_recognition.face_distance(encodeListKnown, encodeFace)\n",
    "        matchIndex = np.argmin(faceDis)\n",
    "\n",
    "        if matches[matchIndex]:\n",
    "            name = classNames[matchIndex].upper()\n",
    "            y_true.append(name)\n",
    "            y_pred.append(classNames[matchIndex].upper())\n",
    "            y1, x2, y2, x1 = faceLoc\n",
    "            y1, x2, y2, x1 = y1 * 4, x2 * 4, y2 * 4, x1 * 4\n",
    "            cv2.rectangle(img, (x1, y1), (x2, y2), (0, 255, 0), 2)\n",
    "            cv2.rectangle(img, (x1, y2 - 35), (x2, y2), (0, 255, 0), cv2.FILLED)\n",
    "            cv2.putText(img, name, (x1 + 6, y2 - 6), cv2.FONT_HERSHEY_COMPLEX, 1, (255, 255, 255), 2)\n",
    "            markAttendance(name)\n",
    "        else:\n",
    "            y_true.append(\"Unknown\")\n",
    "            y_pred.append(\"Unknown\")\n",
    "\n",
    "    cv2.imshow('Webcam', img)\n",
    "    if cv2.waitKey(1) & 0xFF == ord('q'):\n",
    "        break\n",
    "\n",
    "end_time = time.time()\n",
    "cap.release()\n",
    "cv2.destroyAllWindows()\n",
    "\n",
    "# Calculate performance metrics\n",
    "accuracy = accuracy_score(y_true, y_pred)\n",
    "precision = precision_score(y_true, y_pred, average='weighted')\n",
    "recall = recall_score(y_true, y_pred, average='weighted')\n",
    "f1 = f1_score(y_true, y_pred, average='weighted')\n",
    "processing_time = end_time - start_time\n",
    "\n",
    "print(f'Accuracy: {accuracy:.2f}')\n",
    "print(f'Precision: {precision:.2f}')\n",
    "print(f'Recall: {recall:.2f}')\n",
    "print(f'F1 Score: {f1:.2f}')\n",
    "print(f'Total Processing Time: {processing_time:.2f} seconds')\n"
   ]
  }
 ],
 "metadata": {
  "kernelspec": {
   "display_name": "Python 3 (ipykernel)",
   "language": "python",
   "name": "python3"
  },
  "language_info": {
   "codemirror_mode": {
    "name": "ipython",
    "version": 3
   },
   "file_extension": ".py",
   "mimetype": "text/x-python",
   "name": "python",
   "nbconvert_exporter": "python",
   "pygments_lexer": "ipython3",
   "version": "3.12.4"
  }
 },
 "nbformat": 4,
 "nbformat_minor": 5
}
